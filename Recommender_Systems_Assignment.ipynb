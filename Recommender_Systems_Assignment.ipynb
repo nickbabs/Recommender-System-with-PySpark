{
 "cells": [
  {
   "cell_type": "markdown",
   "metadata": {
    "id": "sTU8YQ1PcTcF"
   },
   "source": [
    "# CS 614 - Applications of Machine Learning\n",
    "## Nick Babcock\n",
    "### Code for Assignment 2 - Recommender Systems"
   ]
  },
  {
   "cell_type": "markdown",
   "metadata": {
    "id": "keXaidF_5ig1"
   },
   "source": [
    "This notebook will demonstrate the implementation of Apache PySpark's publicly available ALS algorithm to build a recommendation system which will be trained on a dataset consisting of several Amazon users' ratings of Amazon Fashion products."
   ]
  },
  {
   "cell_type": "markdown",
   "metadata": {
    "id": "8CIKIHxC7d8G"
   },
   "source": [
    "#### Starting a PySpark Session"
   ]
  },
  {
   "cell_type": "code",
   "execution_count": null,
   "metadata": {
    "colab": {
     "base_uri": "https://localhost:8080/"
    },
    "id": "BsZE9I0KzLsS",
    "outputId": "6d819ca6-7123-48b8-8f7b-d8ed3a8c3c3e"
   },
   "outputs": [
    {
     "name": "stdout",
     "output_type": "stream",
     "text": [
      "Looking in indexes: https://pypi.org/simple, https://us-python.pkg.dev/colab-wheels/public/simple/\n",
      "Collecting pyspark\n",
      "  Downloading pyspark-3.4.0.tar.gz (310.8 MB)\n",
      "\u001b[2K     \u001b[90m━━━━━━━━━━━━━━━━━━━━━━━━━━━━━━━━━━━━━━━\u001b[0m \u001b[32m310.8/310.8 MB\u001b[0m \u001b[31m2.9 MB/s\u001b[0m eta \u001b[36m0:00:00\u001b[0m\n",
      "\u001b[?25h  Preparing metadata (setup.py) ... \u001b[?25l\u001b[?25hdone\n",
      "Requirement already satisfied: py4j==0.10.9.7 in /usr/local/lib/python3.10/dist-packages (from pyspark) (0.10.9.7)\n",
      "Building wheels for collected packages: pyspark\n",
      "  Building wheel for pyspark (setup.py) ... \u001b[?25l\u001b[?25hdone\n",
      "  Created wheel for pyspark: filename=pyspark-3.4.0-py2.py3-none-any.whl size=311317130 sha256=3f33b21f1af7a6f1d4fc7031be2de61551cdedd012e02f2ddc823c75f552c4c4\n",
      "  Stored in directory: /root/.cache/pip/wheels/7b/1b/4b/3363a1d04368e7ff0d408e57ff57966fcdf00583774e761327\n",
      "Successfully built pyspark\n",
      "Installing collected packages: pyspark\n",
      "Successfully installed pyspark-3.4.0\n"
     ]
    }
   ],
   "source": [
    "# installing the pyspark package\n",
    "\n",
    "!pip install pyspark"
   ]
  },
  {
   "cell_type": "code",
   "execution_count": null,
   "metadata": {
    "id": "T1StYp-xzLqr"
   },
   "outputs": [],
   "source": [
    "# starting a pyspark session\n",
    "\n",
    "from pyspark.sql import SparkSession\n",
    "\n",
    "spark = SparkSession.builder.appName('RecommendersHW').getOrCreate()"
   ]
  },
  {
   "cell_type": "code",
   "execution_count": null,
   "metadata": {
    "colab": {
     "base_uri": "https://localhost:8080/",
     "height": 211
    },
    "id": "219rD06UzLK6",
    "outputId": "26fc8860-bb82-443b-9fa4-0a9a91477bc7"
   },
   "outputs": [
    {
     "data": {
      "text/html": [
       "\n",
       "            <div>\n",
       "                <p><b>SparkSession - in-memory</b></p>\n",
       "                \n",
       "        <div>\n",
       "            <p><b>SparkContext</b></p>\n",
       "\n",
       "            <p><a href=\"http://19f384842d2a:4040\">Spark UI</a></p>\n",
       "\n",
       "            <dl>\n",
       "              <dt>Version</dt>\n",
       "                <dd><code>v3.4.0</code></dd>\n",
       "              <dt>Master</dt>\n",
       "                <dd><code>local[*]</code></dd>\n",
       "              <dt>AppName</dt>\n",
       "                <dd><code>RecommendersHW</code></dd>\n",
       "            </dl>\n",
       "        </div>\n",
       "        \n",
       "            </div>\n",
       "        "
      ],
      "text/plain": [
       "<pyspark.sql.session.SparkSession at 0x7f14f9782da0>"
      ]
     },
     "execution_count": 3,
     "metadata": {},
     "output_type": "execute_result"
    }
   ],
   "source": [
    "# verify that the session was created\n",
    "\n",
    "spark"
   ]
  },
  {
   "cell_type": "markdown",
   "metadata": {
    "id": "KBK_1_Cg7koB"
   },
   "source": [
    "#### Loading the Dataset"
   ]
  },
  {
   "cell_type": "code",
   "execution_count": null,
   "metadata": {
    "id": "LC2o0g_8N8yl"
   },
   "outputs": [],
   "source": [
    "# NOTE:  this dataset was found at https://nijianmo.github.io/amazon/index.html under the \"subsets\" section, find Amazon Fasion and click \"ratings only\", or see below\n",
    "\n",
    "# DIRECT LINK (file is large and may take a minute to load) - https://jmcauley.ucsd.edu/data/amazon_v2/categoryFilesSmall/AMAZON_FASHION.csv"
   ]
  },
  {
   "cell_type": "code",
   "execution_count": null,
   "metadata": {
    "colab": {
     "base_uri": "https://localhost:8080/",
     "height": 201
    },
    "id": "B8IhsbbxDMuP",
    "outputId": "55208678-7ee9-4d7c-e98d-6dd5f4478a5d"
   },
   "outputs": [
    {
     "data": {
      "text/html": [
       "\n",
       "  <div id=\"df-3dac4c1b-8e41-4de3-bc5d-046b9a35d567\">\n",
       "    <div class=\"colab-df-container\">\n",
       "      <div>\n",
       "<style scoped>\n",
       "    .dataframe tbody tr th:only-of-type {\n",
       "        vertical-align: middle;\n",
       "    }\n",
       "\n",
       "    .dataframe tbody tr th {\n",
       "        vertical-align: top;\n",
       "    }\n",
       "\n",
       "    .dataframe thead th {\n",
       "        text-align: right;\n",
       "    }\n",
       "</style>\n",
       "<table border=\"1\" class=\"dataframe\">\n",
       "  <thead>\n",
       "    <tr style=\"text-align: right;\">\n",
       "      <th></th>\n",
       "      <th>0</th>\n",
       "      <th>1</th>\n",
       "      <th>2</th>\n",
       "      <th>3</th>\n",
       "    </tr>\n",
       "  </thead>\n",
       "  <tbody>\n",
       "    <tr>\n",
       "      <th>0</th>\n",
       "      <td>7106116521</td>\n",
       "      <td>A1D4G1SNUZWQOT</td>\n",
       "      <td>5.0</td>\n",
       "      <td>1413763200</td>\n",
       "    </tr>\n",
       "    <tr>\n",
       "      <th>1</th>\n",
       "      <td>7106116521</td>\n",
       "      <td>A3DDWDH9PX2YX2</td>\n",
       "      <td>2.0</td>\n",
       "      <td>1411862400</td>\n",
       "    </tr>\n",
       "    <tr>\n",
       "      <th>2</th>\n",
       "      <td>7106116521</td>\n",
       "      <td>A2MWC41EW7XL15</td>\n",
       "      <td>4.0</td>\n",
       "      <td>1408924800</td>\n",
       "    </tr>\n",
       "    <tr>\n",
       "      <th>3</th>\n",
       "      <td>7106116521</td>\n",
       "      <td>A2UH2QQ275NV45</td>\n",
       "      <td>2.0</td>\n",
       "      <td>1408838400</td>\n",
       "    </tr>\n",
       "    <tr>\n",
       "      <th>4</th>\n",
       "      <td>7106116521</td>\n",
       "      <td>A89F3LQADZBS5</td>\n",
       "      <td>3.0</td>\n",
       "      <td>1406419200</td>\n",
       "    </tr>\n",
       "  </tbody>\n",
       "</table>\n",
       "</div>\n",
       "      <button class=\"colab-df-convert\" onclick=\"convertToInteractive('df-3dac4c1b-8e41-4de3-bc5d-046b9a35d567')\"\n",
       "              title=\"Convert this dataframe to an interactive table.\"\n",
       "              style=\"display:none;\">\n",
       "        \n",
       "  <svg xmlns=\"http://www.w3.org/2000/svg\" height=\"24px\"viewBox=\"0 0 24 24\"\n",
       "       width=\"24px\">\n",
       "    <path d=\"M0 0h24v24H0V0z\" fill=\"none\"/>\n",
       "    <path d=\"M18.56 5.44l.94 2.06.94-2.06 2.06-.94-2.06-.94-.94-2.06-.94 2.06-2.06.94zm-11 1L8.5 8.5l.94-2.06 2.06-.94-2.06-.94L8.5 2.5l-.94 2.06-2.06.94zm10 10l.94 2.06.94-2.06 2.06-.94-2.06-.94-.94-2.06-.94 2.06-2.06.94z\"/><path d=\"M17.41 7.96l-1.37-1.37c-.4-.4-.92-.59-1.43-.59-.52 0-1.04.2-1.43.59L10.3 9.45l-7.72 7.72c-.78.78-.78 2.05 0 2.83L4 21.41c.39.39.9.59 1.41.59.51 0 1.02-.2 1.41-.59l7.78-7.78 2.81-2.81c.8-.78.8-2.07 0-2.86zM5.41 20L4 18.59l7.72-7.72 1.47 1.35L5.41 20z\"/>\n",
       "  </svg>\n",
       "      </button>\n",
       "      \n",
       "  <style>\n",
       "    .colab-df-container {\n",
       "      display:flex;\n",
       "      flex-wrap:wrap;\n",
       "      gap: 12px;\n",
       "    }\n",
       "\n",
       "    .colab-df-convert {\n",
       "      background-color: #E8F0FE;\n",
       "      border: none;\n",
       "      border-radius: 50%;\n",
       "      cursor: pointer;\n",
       "      display: none;\n",
       "      fill: #1967D2;\n",
       "      height: 32px;\n",
       "      padding: 0 0 0 0;\n",
       "      width: 32px;\n",
       "    }\n",
       "\n",
       "    .colab-df-convert:hover {\n",
       "      background-color: #E2EBFA;\n",
       "      box-shadow: 0px 1px 2px rgba(60, 64, 67, 0.3), 0px 1px 3px 1px rgba(60, 64, 67, 0.15);\n",
       "      fill: #174EA6;\n",
       "    }\n",
       "\n",
       "    [theme=dark] .colab-df-convert {\n",
       "      background-color: #3B4455;\n",
       "      fill: #D2E3FC;\n",
       "    }\n",
       "\n",
       "    [theme=dark] .colab-df-convert:hover {\n",
       "      background-color: #434B5C;\n",
       "      box-shadow: 0px 1px 3px 1px rgba(0, 0, 0, 0.15);\n",
       "      filter: drop-shadow(0px 1px 2px rgba(0, 0, 0, 0.3));\n",
       "      fill: #FFFFFF;\n",
       "    }\n",
       "  </style>\n",
       "\n",
       "      <script>\n",
       "        const buttonEl =\n",
       "          document.querySelector('#df-3dac4c1b-8e41-4de3-bc5d-046b9a35d567 button.colab-df-convert');\n",
       "        buttonEl.style.display =\n",
       "          google.colab.kernel.accessAllowed ? 'block' : 'none';\n",
       "\n",
       "        async function convertToInteractive(key) {\n",
       "          const element = document.querySelector('#df-3dac4c1b-8e41-4de3-bc5d-046b9a35d567');\n",
       "          const dataTable =\n",
       "            await google.colab.kernel.invokeFunction('convertToInteractive',\n",
       "                                                     [key], {});\n",
       "          if (!dataTable) return;\n",
       "\n",
       "          const docLinkHtml = 'Like what you see? Visit the ' +\n",
       "            '<a target=\"_blank\" href=https://colab.research.google.com/notebooks/data_table.ipynb>data table notebook</a>'\n",
       "            + ' to learn more about interactive tables.';\n",
       "          element.innerHTML = '';\n",
       "          dataTable['output_type'] = 'display_data';\n",
       "          await google.colab.output.renderOutput(dataTable, element);\n",
       "          const docLink = document.createElement('div');\n",
       "          docLink.innerHTML = docLinkHtml;\n",
       "          element.appendChild(docLink);\n",
       "        }\n",
       "      </script>\n",
       "    </div>\n",
       "  </div>\n",
       "  "
      ],
      "text/plain": [
       "            0               1    2           3\n",
       "0  7106116521  A1D4G1SNUZWQOT  5.0  1413763200\n",
       "1  7106116521  A3DDWDH9PX2YX2  2.0  1411862400\n",
       "2  7106116521  A2MWC41EW7XL15  4.0  1408924800\n",
       "3  7106116521  A2UH2QQ275NV45  2.0  1408838400\n",
       "4  7106116521   A89F3LQADZBS5  3.0  1406419200"
      ]
     },
     "execution_count": 4,
     "metadata": {},
     "output_type": "execute_result"
    }
   ],
   "source": [
    "# We will first create a pandas dataframe using the a link of the csv file on my google drive \n",
    "# and then convert it to pyspark. This was the simplest way I could find using pyspark to load\n",
    "# the dataset without having to download it locally.\n",
    "\n",
    "import pandas as pd\n",
    "\n",
    "url = \"https://drive.google.com/uc?id=1h9vuWEGXPObYqh1RAxhRzCXTIFxmB_w2\"\n",
    "df = pd.read_csv(url, header = None)\n",
    "df.head(5)"
   ]
  },
  {
   "cell_type": "code",
   "execution_count": null,
   "metadata": {
    "colab": {
     "base_uri": "https://localhost:8080/"
    },
    "id": "npOdrE8WNb2v",
    "outputId": "679814b5-615f-4116-c6f9-1809dcfbaeee"
   },
   "outputs": [
    {
     "data": {
      "text/plain": [
       "0    883636\n",
       "1    883636\n",
       "2    883636\n",
       "3    883636\n",
       "dtype: int64"
      ]
     },
     "execution_count": 5,
     "metadata": {},
     "output_type": "execute_result"
    }
   ],
   "source": [
    "df.count()"
   ]
  },
  {
   "cell_type": "code",
   "execution_count": null,
   "metadata": {
    "colab": {
     "background_save": true
    },
    "id": "urCpb00MLD8B",
    "outputId": "3e0f040a-b8f8-4551-c862-cab1b447d28c"
   },
   "outputs": [
    {
     "name": "stdout",
     "output_type": "stream",
     "text": [
      "root\n",
      " |-- 0: string (nullable = true)\n",
      " |-- 1: string (nullable = true)\n",
      " |-- 2: double (nullable = true)\n",
      " |-- 3: long (nullable = true)\n",
      "\n",
      "+----------+--------------+---+----------+\n",
      "|         0|             1|  2|         3|\n",
      "+----------+--------------+---+----------+\n",
      "|7106116521|A1D4G1SNUZWQOT|5.0|1413763200|\n",
      "|7106116521|A3DDWDH9PX2YX2|2.0|1411862400|\n",
      "|7106116521|A2MWC41EW7XL15|4.0|1408924800|\n",
      "|7106116521|A2UH2QQ275NV45|2.0|1408838400|\n",
      "|7106116521| A89F3LQADZBS5|3.0|1406419200|\n",
      "|7106116521|A29HLOUW0NS0EH|5.0|1405728000|\n",
      "|7106116521| A7QS961ROI6E0|4.0|1401494400|\n",
      "|B00007GDFV|A1BB77SEBQT8VX|3.0|1379808000|\n",
      "|B00007GDFV| AHWOW7D1ABO9C|3.0|1374019200|\n",
      "|B00007GDFV| AKS3GULZE0HFC|3.0|1365811200|\n",
      "|B00007GDFV| A38NS6NF6WPXS|4.0|1362787200|\n",
      "|B00007GDFV|A1KOKO3HTSAI1H|2.0|1359244800|\n",
      "|B00007GDFV|A1G3S57JGZNPCL|1.0|1357257600|\n",
      "|B00007GDFV| AGBL3TTP6GV4X|1.0|1343606400|\n",
      "|B00007GDFV|A1Y36BSE9GKXLV|4.0|1268352000|\n",
      "|B00007GDFV|A1L1U968VNYVA4|3.0|1509408000|\n",
      "|B00007GDFV|A1NSKPSR0XZ0C9|5.0|1508803200|\n",
      "|B00007GDFV|A3O5SXH5O8DWRP|5.0|1507852800|\n",
      "|B00007GDFV|A3I52T3ZCLRZZA|4.0|1507680000|\n",
      "|B00007GDFV|A3VWTJR1QOI7JR|3.0|1507334400|\n",
      "+----------+--------------+---+----------+\n",
      "only showing top 20 rows\n",
      "\n"
     ]
    }
   ],
   "source": [
    "# NOTE: This cell may take 30 seconds - a minute to run\n",
    "\n",
    "# converting the pandas dataframe into a pyspark dataframe in order to be used in the spark session\n",
    "\n",
    "fashion = spark.createDataFrame(df) \n",
    "fashion.printSchema()\n",
    "fashion.show()"
   ]
  },
  {
   "cell_type": "code",
   "execution_count": 7,
   "metadata": {
    "colab": {
     "base_uri": "https://localhost:8080/"
    },
    "id": "tjpWnDjuBODX",
    "outputId": "57e9489e-de13-488b-d7b3-de63fb70aa47"
   },
   "outputs": [
    {
     "name": "stdout",
     "output_type": "stream",
     "text": [
      "There are 883636 ratings in this dataset\n"
     ]
    }
   ],
   "source": [
    "print(f'There are {fashion.count()} ratings in this dataset')"
   ]
  },
  {
   "cell_type": "markdown",
   "metadata": {
    "id": "yBAyY7hLQTbU"
   },
   "source": [
    "#### EDA and Pre-Processing of the Data"
   ]
  },
  {
   "cell_type": "code",
   "execution_count": 8,
   "metadata": {
    "colab": {
     "base_uri": "https://localhost:8080/"
    },
    "id": "olv6Xca8eKfW",
    "outputId": "dee703f6-da57-4984-825e-14a526ff773b"
   },
   "outputs": [
    {
     "name": "stdout",
     "output_type": "stream",
     "text": [
      "+----------+--------------+---+----------+\n",
      "|         0|             1|  2|         3|\n",
      "+----------+--------------+---+----------+\n",
      "|B00007GDFV|A1Y36BSE9GKXLV|4.0|1268352000|\n",
      "|B00007GDFV|A199RALD1NLRC1|4.0|1498089600|\n",
      "|B00007GDFV|A1JOKKNG15VE62|5.0|1469836800|\n",
      "|B00007GDFV| ALJEJH7DMUVB0|1.0|1462924800|\n",
      "|B00007GDFV|A1ALMLGB7P0P9W|4.0|1457568000|\n",
      "+----------+--------------+---+----------+\n",
      "only showing top 5 rows\n",
      "\n"
     ]
    }
   ],
   "source": [
    "# In order to optimize speed of this model for the purposes of this assignment, I will only use a sample of this dataset\n",
    "\n",
    "sample = fashion.sample(withReplacement=False, fraction=0.10)\n",
    "sample.show(5)"
   ]
  },
  {
   "cell_type": "code",
   "execution_count": 9,
   "metadata": {
    "colab": {
     "base_uri": "https://localhost:8080/"
    },
    "id": "LTL9EWXTeopu",
    "outputId": "7a0d8279-9f0d-4fc3-f75a-0ef0ada890dc"
   },
   "outputs": [
    {
     "name": "stdout",
     "output_type": "stream",
     "text": [
      "There are 88728 ratings in this sample dataset\n"
     ]
    }
   ],
   "source": [
    "print(f'There are {sample.count()} ratings in this sample dataset')"
   ]
  },
  {
   "cell_type": "code",
   "execution_count": 10,
   "metadata": {
    "colab": {
     "base_uri": "https://localhost:8080/"
    },
    "id": "zs2FVIDdOjql",
    "outputId": "7e6c1b03-46f9-4199-daf3-c69671ddcd4d"
   },
   "outputs": [
    {
     "name": "stdout",
     "output_type": "stream",
     "text": [
      "+----------+--------------+------+----------+\n",
      "|   user_id|    product_id|rating|time_stamp|\n",
      "+----------+--------------+------+----------+\n",
      "|B00007GDFV|A1Y36BSE9GKXLV|   4.0|1268352000|\n",
      "|B00007GDFV|A199RALD1NLRC1|   4.0|1498089600|\n",
      "|B00007GDFV|A1JOKKNG15VE62|   5.0|1469836800|\n",
      "|B00007GDFV| ALJEJH7DMUVB0|   1.0|1462924800|\n",
      "|B00007GDFV|A1ALMLGB7P0P9W|   4.0|1457568000|\n",
      "+----------+--------------+------+----------+\n",
      "only showing top 5 rows\n",
      "\n"
     ]
    }
   ],
   "source": [
    "# Renaming column headers to reflect their meanings\n",
    "\n",
    "ratings = sample.withColumnRenamed(\"0\", \"user_id\").withColumnRenamed(\"1\", \"product_id\").withColumnRenamed(\"2\", \"rating\").withColumnRenamed(\"3\", \"time_stamp\")\n",
    "ratings.show(5)"
   ]
  },
  {
   "cell_type": "code",
   "execution_count": 11,
   "metadata": {
    "colab": {
     "base_uri": "https://localhost:8080/"
    },
    "id": "kzxZ1RsnP-Sl",
    "outputId": "19760d32-364e-4497-9e72-aba9a445f6f3"
   },
   "outputs": [
    {
     "name": "stdout",
     "output_type": "stream",
     "text": [
      "+----------+--------------+------+\n",
      "|   user_id|    product_id|rating|\n",
      "+----------+--------------+------+\n",
      "|B00063VWSA|   AYPV8Y6PMVY|   5.0|\n",
      "|B000EB3RXM|A1V2XAGY86LIU0|   1.0|\n",
      "|B000EE1NNA| AYCZAFTJ6GBTH|   5.0|\n",
      "|B000GHMRLW| AY4XU6B5ZKN0K|   1.0|\n",
      "|B000KPIHQ4| A7J5XD1A4R0X2|   1.0|\n",
      "+----------+--------------+------+\n",
      "only showing top 5 rows\n",
      "\n"
     ]
    }
   ],
   "source": [
    "# create a test df to check for any duplicate entries of a user - item pair in case the user rated the item multiple times\n",
    "# consolidate these duplicates by using the average of their ratings as the new rating value\n",
    "\n",
    "test = ratings.groupBy('user_id', 'product_id').avg('rating').withColumnRenamed('avg(rating)', 'rating')\n",
    "test.show(5)"
   ]
  },
  {
   "cell_type": "code",
   "execution_count": 12,
   "metadata": {
    "colab": {
     "base_uri": "https://localhost:8080/"
    },
    "id": "xRr5ld_MQK7R",
    "outputId": "85521261-db36-4732-f46b-db02fb83a903"
   },
   "outputs": [
    {
     "name": "stdout",
     "output_type": "stream",
     "text": [
      "88653\n",
      "88728\n"
     ]
    }
   ],
   "source": [
    "# if there are any duplicates, this number will be less than the number of ratings in the original dataset\n",
    "print(test.count())\n",
    "print(sample.count())"
   ]
  },
  {
   "cell_type": "markdown",
   "metadata": {
    "id": "7S2UVSe6R5Bt"
   },
   "source": [
    "<b> Since duplicates were found, the average rating for that product will be used in the training of the recommender </b>"
   ]
  },
  {
   "cell_type": "code",
   "execution_count": 13,
   "metadata": {
    "id": "eGH9kC0WSEzf"
   },
   "outputs": [],
   "source": [
    "new = test"
   ]
  },
  {
   "cell_type": "code",
   "execution_count": 14,
   "metadata": {
    "colab": {
     "base_uri": "https://localhost:8080/"
    },
    "id": "0_0VmTVeP_iq",
    "outputId": "c024802c-e686-45d2-a30d-5d459c1f622a"
   },
   "outputs": [
    {
     "name": "stdout",
     "output_type": "stream",
     "text": [
      "+----------+-----------+------+------+\n",
      "|   user_id| product_id|rating|  user|\n",
      "+----------+-----------+------+------+\n",
      "|B00063VWSA|AYPV8Y6PMVY|   5.0|2501.0|\n",
      "+----------+-----------+------+------+\n",
      "only showing top 1 row\n",
      "\n"
     ]
    }
   ],
   "source": [
    "# creating an integer id column for user and product\n",
    "\n",
    "from pyspark.ml.feature import StringIndexer\n",
    "\n",
    "user_indexer = StringIndexer(inputCol=\"user_id\", outputCol=\"user\")\n",
    "new = user_indexer.fit(new).transform(new)\n",
    "new.show(1)"
   ]
  },
  {
   "cell_type": "code",
   "execution_count": 15,
   "metadata": {
    "colab": {
     "base_uri": "https://localhost:8080/"
    },
    "id": "1rWSTfm7SL9S",
    "outputId": "69cb2f8d-66a0-4027-c781-515c52ae9333"
   },
   "outputs": [
    {
     "name": "stdout",
     "output_type": "stream",
     "text": [
      "+----------+-----------+------+------+-------+\n",
      "|   user_id| product_id|rating|  user|product|\n",
      "+----------+-----------+------+------+-------+\n",
      "|B00063VWSA|AYPV8Y6PMVY|   5.0|2501.0|85922.0|\n",
      "+----------+-----------+------+------+-------+\n",
      "only showing top 1 row\n",
      "\n"
     ]
    }
   ],
   "source": [
    "product_indexer = StringIndexer(inputCol=\"product_id\", outputCol=\"product\")\n",
    "new = product_indexer.fit(new).transform(new)\n",
    "new.show(1)"
   ]
  },
  {
   "cell_type": "code",
   "execution_count": 16,
   "metadata": {
    "colab": {
     "base_uri": "https://localhost:8080/"
    },
    "id": "cByGp1tVScpM",
    "outputId": "59a327f7-2529-42c8-b5e6-70604cd2317e"
   },
   "outputs": [
    {
     "name": "stdout",
     "output_type": "stream",
     "text": [
      "root\n",
      " |-- user_id: string (nullable = true)\n",
      " |-- product_id: string (nullable = true)\n",
      " |-- rating: double (nullable = true)\n",
      " |-- user: double (nullable = false)\n",
      " |-- product: double (nullable = false)\n",
      "\n"
     ]
    }
   ],
   "source": [
    "new.printSchema()"
   ]
  },
  {
   "cell_type": "code",
   "execution_count": 17,
   "metadata": {
    "colab": {
     "base_uri": "https://localhost:8080/"
    },
    "id": "c2lG9b6NSkv4",
    "outputId": "7d07850e-f9a1-4ccd-c2f7-d4412d96ca52"
   },
   "outputs": [
    {
     "name": "stdout",
     "output_type": "stream",
     "text": [
      "+------+-------+------+\n",
      "|  user|product|rating|\n",
      "+------+-------+------+\n",
      "|2501.0|85922.0|   5.0|\n",
      "| 636.0|21331.0|   1.0|\n",
      "|  94.0|85693.0|   5.0|\n",
      "|  17.0| 1772.0|   1.0|\n",
      "|   1.0|69098.0|   1.0|\n",
      "+------+-------+------+\n",
      "only showing top 5 rows\n",
      "\n"
     ]
    }
   ],
   "source": [
    "# now create the new dataframe that will be used to train the model\n",
    "\n",
    "new_ratings = new.select('user', 'product', 'rating')\n",
    "new_ratings.show(5)"
   ]
  },
  {
   "cell_type": "code",
   "execution_count": 18,
   "metadata": {
    "id": "34iSlfyTSxv4"
   },
   "outputs": [],
   "source": [
    "# use pysparks randomSplit function to split the data into a test and train set\n",
    "\n",
    "(train, test) = new_ratings.randomSplit([0.8, 0.2], seed = 42)"
   ]
  },
  {
   "cell_type": "markdown",
   "metadata": {
    "id": "Ljf5ufwwS56A"
   },
   "source": [
    "#### Building the Model"
   ]
  },
  {
   "cell_type": "code",
   "execution_count": 19,
   "metadata": {
    "id": "qhD57xJXTCc4"
   },
   "outputs": [],
   "source": [
    "from pyspark.ml.evaluation import RegressionEvaluator, RankingEvaluator\n",
    "from pyspark.ml.recommendation import ALS\n",
    "from pyspark.sql import Row\n",
    "\n",
    "# Set coldStartStrategy to 'drop' to get rid of the NaN values\n",
    "\n",
    "als = ALS(maxIter=3, regParam=0.02, userCol='user', itemCol='product', ratingCol='rating',\n",
    "          rank=15, coldStartStrategy='drop', implicitPrefs=False)\n",
    "\n",
    "# fit model to training data\n",
    "model = als.fit(train)"
   ]
  },
  {
   "cell_type": "code",
   "execution_count": 20,
   "metadata": {
    "id": "nyaEhGrnTHMA"
   },
   "outputs": [],
   "source": [
    "# transforming model on the test data\n",
    "predictions = model.transform(test)"
   ]
  },
  {
   "cell_type": "markdown",
   "metadata": {
    "id": "fVLjfuyHqaHx"
   },
   "source": [
    "#### Testing the Model"
   ]
  },
  {
   "cell_type": "code",
   "execution_count": 21,
   "metadata": {
    "id": "4vu08xRXi7gX"
   },
   "outputs": [],
   "source": [
    "from pyspark.sql.functions import round\n",
    "predictions_sorted = predictions.sort(\"product\", ascending= True)\n",
    "\n",
    "predictions_sorted = predictions_sorted.withColumn(\"prediction_rounded\", round(\"prediction\"))"
   ]
  },
  {
   "cell_type": "code",
   "execution_count": 23,
   "metadata": {
    "colab": {
     "base_uri": "https://localhost:8080/"
    },
    "id": "jOSGKvJ1i9ot",
    "outputId": "5ab6a372-c72e-43be-d69d-a4772107eeda"
   },
   "outputs": [
    {
     "name": "stdout",
     "output_type": "stream",
     "text": [
      "+------+-------+------+----------+------------------+\n",
      "|  user|product|rating|prediction|prediction_rounded|\n",
      "+------+-------+------+----------+------------------+\n",
      "|  99.0|    4.0|   5.0|0.52628285|               1.0|\n",
      "|9656.0|    6.0|   5.0|-0.9625372|              -1.0|\n",
      "|  40.0|    7.0|   4.0|0.16567913|               0.0|\n",
      "|2313.0|    8.0|   4.0|0.71988136|               1.0|\n",
      "|3019.0|    8.0|   2.0|  1.602956|               2.0|\n",
      "+------+-------+------+----------+------------------+\n",
      "only showing top 5 rows\n",
      "\n"
     ]
    }
   ],
   "source": [
    "# list of the top 5 products and the predicted user ratings with their actual ratings\n",
    "\n",
    "predictions_sorted.show(5)"
   ]
  },
  {
   "cell_type": "code",
   "execution_count": null,
   "metadata": {
    "id": "Nx9VncGFku66"
   },
   "outputs": [],
   "source": [
    "# NOTE:  The following cell will take approximately 5-10 minutes to run"
   ]
  },
  {
   "cell_type": "code",
   "execution_count": 24,
   "metadata": {
    "colab": {
     "base_uri": "https://localhost:8080/"
    },
    "id": "b4PLmjGmTDTQ",
    "outputId": "9ce194b4-9a34-4012-f783-b8930fb53a97"
   },
   "outputs": [
    {
     "name": "stdout",
     "output_type": "stream",
     "text": [
      "+----+------------------------------------------------------------------------------------------------------------------------------------------------------------------------------------------------------+\n",
      "|user|recommendations                                                                                                                                                                                       |\n",
      "+----+------------------------------------------------------------------------------------------------------------------------------------------------------------------------------------------------------+\n",
      "|1   |[{1722, 4.999169}, {1677, 4.999169}, {1634, 4.999169}, {1519, 4.999169}, {1465, 4.999169}, {1401, 4.999169}, {1361, 4.999169}, {1296, 4.999169}, {1191, 4.999169}, {1146, 4.999169}]                  |\n",
      "|3   |[{1427, 5.177749}, {84593, 4.9958973}, {84316, 4.9958973}, {83971, 4.9958973}, {83091, 4.9958973}, {81501, 4.9958973}, {78259, 4.9958973}, {78205, 4.9958973}, {77919, 4.9958973}, {76871, 4.9958973}]|\n",
      "|5   |[{227, 5.0096636}, {1608, 4.9991474}, {1456, 4.9991474}, {1454, 4.9991474}, {1280, 4.9991474}, {1019, 4.9991474}, {683, 4.9991474}, {475, 4.9991474}, {435, 4.9991474}, {265, 4.9991474}]             |\n",
      "|6   |[{1126, 5.006224}, {1737, 4.9984126}, {1670, 4.9984126}, {1626, 4.9984126}, {1550, 4.9984126}, {1414, 4.9984126}, {1317, 4.9984126}, {667, 4.9984126}, {500, 4.9984126}, {85123, 4.9953027}]          |\n",
      "|9   |[{1737, 4.9987135}, {1670, 4.9987135}, {1626, 4.9987135}, {1550, 4.9987135}, {1414, 4.9987135}, {1317, 4.9987135}, {667, 4.9987135}, {500, 4.9987135}, {86501, 4.9944882}, {85868, 4.9944882}]        |\n",
      "+----+------------------------------------------------------------------------------------------------------------------------------------------------------------------------------------------------------+\n",
      "only showing top 5 rows\n",
      "\n",
      "+-------+-----------------------------------------------------------------------------------------------------------------------------------------------------------------------------------------------------+\n",
      "|product|recommendations                                                                                                                                                                                      |\n",
      "+-------+-----------------------------------------------------------------------------------------------------------------------------------------------------------------------------------------------------+\n",
      "|1      |[{682, 4.9987164}, {31639, 4.7628145}, {10125, 4.697327}, {26802, 4.554419}, {19105, 4.543862}, {26374, 4.536812}, {15544, 4.4974484}, {42361, 4.497117}, {22840, 4.4896827}, {13392, 4.4693885}]    |\n",
      "|3      |[{34688, 7.6752515}, {9890, 7.4395695}, {4352, 7.3447213}, {9441, 7.220136}, {38902, 6.9745364}, {10853, 6.9592943}, {38947, 6.9492784}, {18356, 6.9442716}, {40507, 6.8830624}, {8655, 6.8118944}]  |\n",
      "|5      |[{9502, 6.6033926}, {16176, 6.241659}, {4968, 6.074876}, {19052, 6.0551977}, {41955, 6.0066023}, {24390, 5.9529796}, {40911, 5.950601}, {5001, 5.869615}, {8315, 5.8557}, {12159, 5.840848}]         |\n",
      "|6      |[{12211, 5.7123356}, {27589, 5.7047405}, {18482, 5.6508646}, {17635, 5.3995647}, {4088, 5.366593}, {11335, 5.3570857}, {27649, 5.3410587}, {32374, 5.3345957}, {27595, 5.1693616}, {34814, 5.150136}]|\n",
      "|9      |[{18930, 6.5551486}, {18348, 6.500752}, {30650, 6.3153934}, {42089, 6.3054194}, {18729, 6.3008556}, {2344, 6.2991357}, {31533, 6.289619}, {20128, 6.275978}, {29818, 6.2258143}, {35061, 6.137423}]  |\n",
      "+-------+-----------------------------------------------------------------------------------------------------------------------------------------------------------------------------------------------------+\n",
      "only showing top 5 rows\n",
      "\n"
     ]
    }
   ],
   "source": [
    "# Generate top 10 product recommendations for each user\n",
    "userRecs = model.recommendForAllUsers(10)\n",
    "userRecs.show(5, truncate = False)\n",
    "\n",
    "# Generate top 10 user recommendations for each product\n",
    "productRecs = model.recommendForAllItems(10)\n",
    "productRecs.show(5, truncate = False)"
   ]
  },
  {
   "cell_type": "code",
   "execution_count": 25,
   "metadata": {
    "colab": {
     "base_uri": "https://localhost:8080/"
    },
    "id": "Si8X62UmsWXK",
    "outputId": "e17eb637-4c79-4fd9-c675-0f1e71b77221"
   },
   "outputs": [
    {
     "name": "stdout",
     "output_type": "stream",
     "text": [
      "Root-mean-square error = 4.445422376412846\n",
      "Mean Absolute Error = 4.096858638743456\n",
      "Mean Squared Error = 19.761780104712038\n"
     ]
    }
   ],
   "source": [
    "from pyspark.ml.evaluation import RegressionEvaluator\n",
    "from pyspark.mllib.evaluation import RankingMetrics\n",
    "\n",
    "# evaluating model's results with RMSE\n",
    "evaluator_rmse = RegressionEvaluator(metricName=\"rmse\", labelCol=\"rating\", predictionCol=\"prediction_rounded\")\n",
    "rmse = evaluator_rmse.evaluate(predictions_sorted)\n",
    "print(\"Root-mean-square error = \" + str(rmse))\n",
    "\n",
    "# evaluating model's results with MAE\n",
    "evaluator_mae = RegressionEvaluator(metricName=\"mae\", labelCol=\"rating\", predictionCol=\"prediction_rounded\")\n",
    "mae = evaluator_mae.evaluate(predictions_sorted)\n",
    "print(\"Mean Absolute Error = \" + str(mae))\n",
    "\n",
    "# evaluating model's results with MSE\n",
    "evaluator_mse = RegressionEvaluator(metricName=\"mse\", labelCol=\"rating\", predictionCol=\"prediction_rounded\")\n",
    "mse = evaluator_mse.evaluate(predictions_sorted)\n",
    "print(\"Mean Squared Error = \" + str(mse))"
   ]
  }
 ],
 "metadata": {
  "colab": {
   "provenance": []
  },
  "gpuClass": "standard",
  "kernelspec": {
   "display_name": "Python 3",
   "language": "python",
   "name": "python3"
  },
  "language_info": {
   "codemirror_mode": {
    "name": "ipython",
    "version": 3
   },
   "file_extension": ".py",
   "mimetype": "text/x-python",
   "name": "python",
   "nbconvert_exporter": "python",
   "pygments_lexer": "ipython3",
   "version": "3.8.8"
  }
 },
 "nbformat": 4,
 "nbformat_minor": 1
}
